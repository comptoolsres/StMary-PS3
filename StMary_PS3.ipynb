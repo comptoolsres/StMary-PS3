{
 "cells": [
  {
   "cell_type": "code",
   "execution_count": 1,
   "metadata": {},
   "outputs": [
    {
     "name": "stdout",
     "output_type": "stream",
     "text": [
      "At 2018-10-10 18:06 the maximum water depth of 6.647 was reached\n",
      "725 lines of data read\n"
     ]
    }
   ],
   "source": [
    "# problem set 3\n",
    "# problem 1\n",
    "import csv\n",
    "\n",
    "filename = '/blue/bsc4452/share/Class_Files/data/CO-OPS__8729108__wl.csv'\n",
    "try:\n",
    "    fhand = open(filename)\n",
    "except: \n",
    "    print ('Files cannot be opened:', filename)\n",
    "    exit()\n",
    "\n",
    "#based on example taken from https://realpython.com/python-csv/#reading-csv-files-with-csv\n",
    "#this reads each line of the file and takes action if the water height increases\n",
    "water_height = 0\n",
    "time_max = 0\n",
    "with fhand as csv_file:\n",
    "    filecontents = csv.reader(csv_file, delimiter=',')\n",
    "    line_count = 0\n",
    "    for row in filecontents:\n",
    "        if line_count > 1:  #because there is a header row\n",
    "            try: #this accounts for missing data in water height, i.e., row[1]\n",
    "                if float(row[1]) > water_height:\n",
    "                    water_height = float(row[1])  \n",
    "                    time_max = row[0] \n",
    "            except: \n",
    "                continue       \n",
    "        line_count += 1 \n",
    "print(f'At {time_max} the maximum water depth of {water_height} was reached')        \n",
    "print (f'{line_count} lines of data read')"
   ]
  },
  {
   "cell_type": "code",
   "execution_count": 1,
   "metadata": {},
   "outputs": [
    {
     "name": "stdout",
     "output_type": "stream",
     "text": [
      " 2.983099585062242 is the average water height.\n",
      "At 2018-10-11 15:36 the minimum water depth of 1.621 was reached\n",
      "At 2018-10-10 18:06 the maximum water depth of 6.647 was reached\n",
      "725 lines of data read\n"
     ]
    }
   ],
   "source": [
    "#Problem 2\n",
    "#calculate the lowest, highest and average water level observed during the time period. \n",
    "#As above, print the date and time for the lowest and highest readings. \n",
    "\n",
    "import csv\n",
    "\n",
    "filename = '/blue/bsc4452/share/Class_Files/data/CO-OPS__8729108__wl.csv'\n",
    "try:\n",
    "    fhand = open(filename)\n",
    "except: \n",
    "    print ('Files cannot be opened:', filename)\n",
    "    exit()\n",
    "    \n",
    "#this reads each line of the file and takes action if the water height increases\n",
    "\n",
    "w_h = list()\n",
    "count =0\n",
    "water_height_max = 0\n",
    "water_height_min = 3\n",
    "time_max = 0\n",
    "time_min = 0\n",
    "with fhand as csv_file:\n",
    "    filecontents = csv.reader(csv_file, delimiter=',')\n",
    "    line_count = 0\n",
    "    for row in filecontents:\n",
    "        if line_count > 1:  #because there is a header row                     \n",
    "            try: #this accounts for missing data in water height, i.e., row[1]\n",
    "                w_h.append(float(row[1])) #creates a list of the water heights\n",
    "                count += 1 #counts the items in the list\n",
    "                if float(row[1]) > water_height_max:\n",
    "                    water_height_max = float(row[1]) \n",
    "                    time_max = row[0]\n",
    "                if float(row[1]) < water_height_min:\n",
    "                    water_height_min = float(row[1])\n",
    "                    time_min = row[0]                            \n",
    "            except: \n",
    "                continue       \n",
    "        line_count += 1 \n",
    "water_average = sum(w_h)/count        \n",
    "print (f' {water_average} is the average water height.')        \n",
    "print(f'At {time_min} the minimum water depth of {water_height_min} was reached')\n",
    "print(f'At {time_max} the maximum water depth of {water_height_max} was reached') \n",
    "print (f'{line_count} lines of data read')    \n",
    "    "
   ]
  },
  {
   "cell_type": "code",
   "execution_count": 2,
   "metadata": {},
   "outputs": [
    {
     "name": "stdout",
     "output_type": "stream",
     "text": [
      "At 2018-10-10 17:42 we observed the greatest increase in water height per interval, 0.6400000000000006\n",
      "725 lines of data read\n"
     ]
    }
   ],
   "source": [
    "# problem set 3\n",
    "# problem 3\n",
    "import csv\n",
    "\n",
    "filename = '/blue/bsc4452/share/Class_Files/data/CO-OPS__8729108__wl.csv'\n",
    "try:\n",
    "    fhand = open(filename)\n",
    "except: \n",
    "    print ('Files cannot be opened:', filename)\n",
    "    exit()\n",
    "\n",
    "#based on example taken from https://realpython.com/python-csv/#reading-csv-files-with-csv\n",
    "#this reads each line of the file and takes action if the water height increases\n",
    "delta_max = 0\n",
    "time_max_delta = 0\n",
    "with fhand as csv_file:\n",
    "    filecontents = csv.reader(csv_file, delimiter=',')\n",
    "    line_count = 0\n",
    "    water_height = 0\n",
    "    for row in filecontents:\n",
    "        if line_count > 1:  #because there is a header row\n",
    "            try: #this accounts for missing data in water height, i.e., row[1]\n",
    "                if line_count == 2: #to collect the starting water height\n",
    "                    water_height= float(row[1])\n",
    "                else:\n",
    "                    delta= float(row[1])-water_height\n",
    "                    water_height = float(row[1])\n",
    "                    if delta > delta_max: \n",
    "                        delta_max = delta\n",
    "                        time_max_delta = row[0]\n",
    "                 #   print(f'At {row[0]} the maximum water depth of {row[1]} was reached')\n",
    "            except: \n",
    "                continue \n",
    "        line_count += 1\n",
    "print (f'At {time_max_delta} we observed the greatest increase in water height per interval, {delta_max}')\n",
    "print (f'{line_count} lines of data read')"
   ]
  },
  {
   "cell_type": "code",
   "execution_count": 5,
   "metadata": {},
   "outputs": [
    {
     "name": "stdout",
     "output_type": "stream",
     "text": [
      "At 2018-10-10 17:30 we observed an increase in water height >0.25, the increase was 0.3019999999999996\n",
      "At 2018-10-10 17:42 the water depth exceeded 5.0, water height was 5.591\n",
      "At 2018-10-10 17:42 we observed an increase in water height >0.25, the increase was 0.6400000000000006\n",
      "At 2018-10-10 17:48 the water depth exceeded 5.0, water height was 5.958\n",
      "At 2018-10-10 17:54 the water depth exceeded 5.0, water height was 6.404\n",
      "At 2018-10-10 18:00 the water depth exceeded 5.0, water height was 6.575\n",
      "At 2018-10-10 18:06 the water depth exceeded 5.0, water height was 6.647\n",
      "At 2018-10-10 18:12 the water depth exceeded 5.0, water height was 6.503\n",
      "No reading was taken at 2018-10-10 18:18\n",
      "At 2018-10-10 18:24 the water depth exceeded 5.0, water height was 6.309\n",
      "At 2018-10-10 18:30 the water depth exceeded 5.0, water height was 6.024\n",
      "At 2018-10-10 18:36 the water depth exceeded 5.0, water height was 5.725\n",
      "At 2018-10-10 18:42 the water depth exceeded 5.0, water height was 5.699\n",
      "At 2018-10-10 18:48 the water depth exceeded 5.0, water height was 5.449\n",
      "At 2018-10-10 18:54 the water depth exceeded 5.0, water height was 5.338\n",
      "At 2018-10-10 19:00 the water depth exceeded 5.0, water height was 5.22\n",
      "725 lines of data read\n"
     ]
    }
   ],
   "source": [
    "# problem set 3\n",
    "# problem 4\n",
    "#Imagine that the file is providing live readings of the water level. Write a script (or Jupyter Notebook) to print a line of text with a warning if any of these events occur:\n",
    "#    The water level increases more than 0.25 since the previous recording.\n",
    "#    The water level is over 5.0.\n",
    "#    No reading is received at a time point.\n",
    "\n",
    "import csv\n",
    "\n",
    "filename = '/blue/bsc4452/share/Class_Files/data/CO-OPS__8729108__wl.csv'\n",
    "try:\n",
    "    fhand = open(filename)\n",
    "except: \n",
    "    print ('Files cannot be opened:', filename)\n",
    "    exit()\n",
    "\n",
    "#based on example taken from https://realpython.com/python-csv/#reading-csv-files-with-csv\n",
    "#this reads each line of the file and takes action\n",
    "delta_max=0\n",
    "time_max_delta = 0\n",
    "water_height = 0\n",
    "time_max = 0\n",
    "with fhand as csv_file:\n",
    "    filecontents = csv.reader(csv_file, delimiter=',')\n",
    "    line_count = 0\n",
    "    for row in filecontents:\n",
    "        if line_count > 1:  #because there is a header row\n",
    "            try: #this accounts for missing data in water height, i.e., row[1]\n",
    "                if line_count == 2:\n",
    "                    water_height= float(row[1])\n",
    "                else:\n",
    "                    delta= float(row[1])-water_height\n",
    "                    water_height=float(row[1])\n",
    "                    if water_height > 5.0:\n",
    "                        time_max = row[0]\n",
    "                        print(f'At {time_max} the water depth exceeded 5.0, water height was {water_height}') \n",
    "                    if delta > delta_max: \n",
    "                        delta_max = delta\n",
    "                        if delta_max > 0.25:\n",
    "                            time_max_delta = row[0]\n",
    "                            print (f'At {time_max_delta} we observed an increase in water height >0.25, the increase was {delta_max}')\n",
    "            except: \n",
    "                 print(f'No reading was taken at {row[0]}')\n",
    "                 continue \n",
    "\n",
    "        line_count += 1\n",
    "print (f'{line_count} lines of data read')"
   ]
  },
  {
   "cell_type": "code",
   "execution_count": null,
   "metadata": {},
   "outputs": [],
   "source": []
  }
 ],
 "metadata": {
  "kernelspec": {
   "display_name": "Python 3.8 (full)",
   "language": "python",
   "name": "python3-3.8-ufrc"
  },
  "language_info": {
   "codemirror_mode": {
    "name": "ipython",
    "version": 3
   },
   "file_extension": ".py",
   "mimetype": "text/x-python",
   "name": "python",
   "nbconvert_exporter": "python",
   "pygments_lexer": "ipython3",
   "version": "3.8.5"
  }
 },
 "nbformat": 4,
 "nbformat_minor": 4
}
